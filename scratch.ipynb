{
 "cells": [
  {
   "cell_type": "code",
   "execution_count": null,
   "metadata": {},
   "outputs": [],
   "source": [
    "from typing import ClassVar, Optional\n",
    "from datetime import datetime, UTC\n",
    "\n",
    "from pydantic import BaseModel, computed_field, ConfigDict, Field\n",
    "from pydantic_firestore import FirestoreLocation\n",
    "from pydantic_firestore.transforms import *\n",
    "\n",
    "from google.cloud.firestore import Client"
   ]
  },
  {
   "cell_type": "code",
   "execution_count": null,
   "metadata": {},
   "outputs": [],
   "source": [
    "class Nested(BaseModel):\n",
    "    first_field: str\n",
    "    second_field: str\n",
    "\n",
    "    class Update(BaseModel):\n",
    "        first_field: Optional[str] = None\n",
    "        second_field: Optional[str] = None\n",
    "\n",
    "\n",
    "class Doc(BaseModel, FirestoreLocation):\n",
    "    simple_nested: Nested\n",
    "    integer_value: int\n",
    "    float_value: float\n",
    "    string_array: list[str]\n",
    "    create_time: datetime\n",
    "    update_time: datetime | None = None\n",
    "    custom_time: datetime | None = None\n",
    "\n",
    "    firestore_location: ClassVar = (\"pydantic-firestore\",)\n",
    "\n",
    "    class Create(BaseModel, FirestoreLocation):\n",
    "        simple_nested: Nested = Field(default_factory=lambda: Nested(first_field=\"first\", second_field=\"second\"))\n",
    "        integer_value: int = 0\n",
    "        float_value: float = 0.0\n",
    "        string_array: list[str] = []\n",
    "        custom_time: datetime | None = None\n",
    "\n",
    "        model_config = ConfigDict(arbitrary_types_allowed=True)\n",
    "\n",
    "        @computed_field\n",
    "        @property\n",
    "        def create_time(self) -> FirestoreTimestamp:\n",
    "            return FIRESTORE_TIMESTAMP\n",
    "\n",
    "        @computed_field\n",
    "        @property\n",
    "        def update_time(self) -> None:\n",
    "            return None\n",
    "\n",
    "    class Update(BaseModel, FirestoreLocation):\n",
    "        simple_nested: Optional[Nested.Update] = None\n",
    "        integer_value: Optional[FirestoreSentinel[int]] = None\n",
    "        float_value: Optional[FirestoreSentinel[float]] = None\n",
    "        string_array: Optional[FirestoreSentinel[list[str]]] = None\n",
    "\n",
    "        custom_time: Optional[datetime | FirestoreTimestamp] = None\n",
    "\n",
    "        model_config = ConfigDict(arbitrary_types_allowed=True)\n",
    "\n",
    "        @computed_field\n",
    "        def update_time(self) -> FirestoreTimestamp:\n",
    "            return FIRESTORE_TIMESTAMP"
   ]
  },
  {
   "cell_type": "code",
   "execution_count": null,
   "metadata": {},
   "outputs": [],
   "source": [
    "db = Client()"
   ]
  },
  {
   "cell_type": "code",
   "execution_count": null,
   "metadata": {},
   "outputs": [],
   "source": [
    "Doc.Create(\n",
    "    simple_nested=Nested(first_field=\"Foo\", second_field=\"Bar\"),\n",
    "    integer_value=42,\n",
    "    float_value=3.14,\n",
    "    create_time=datetime.now(UTC),\n",
    "    string_array=[\"foo\"],\n",
    ").create_to_firestore(db, \"example\")"
   ]
  },
  {
   "cell_type": "code",
   "execution_count": null,
   "metadata": {},
   "outputs": [],
   "source": [
    "snapshot = Doc.firestore_read(db, \"example\")\n",
    "snapshot"
   ]
  },
  {
   "cell_type": "code",
   "execution_count": null,
   "metadata": {},
   "outputs": [],
   "source": [
    "Doc.Update(string_array=(FIRESTORE_UNION, [\"kek\", \"foo\", \"bar\"])).update_to_firestore(db,  \"example\")"
   ]
  },
  {
   "cell_type": "code",
   "execution_count": null,
   "metadata": {},
   "outputs": [],
   "source": [
    "Doc.Update(integer_value=(FIRESTORE_INCREMENT, +100)).update_to_firestore(db, \"example\")"
   ]
  },
  {
   "cell_type": "code",
   "execution_count": null,
   "metadata": {},
   "outputs": [],
   "source": [
    "Doc.Update(custom_time=datetime.now(UTC)).update_to_firestore(db, \"example\")"
   ]
  },
  {
   "cell_type": "code",
   "execution_count": null,
   "metadata": {},
   "outputs": [],
   "source": [
    "Doc.Update(custom_time=FIRESTORE_TIMESTAMP).update_to_firestore(db, \"example\")"
   ]
  },
  {
   "cell_type": "code",
   "execution_count": null,
   "metadata": {},
   "outputs": [],
   "source": [
    "Doc.firestore_delete(db, \"example\")"
   ]
  },
  {
   "cell_type": "code",
   "execution_count": null,
   "metadata": {},
   "outputs": [],
   "source": []
  }
 ],
 "metadata": {
  "kernelspec": {
   "display_name": "venv",
   "language": "python",
   "name": "python3"
  },
  "language_info": {
   "codemirror_mode": {
    "name": "ipython",
    "version": 3
   },
   "file_extension": ".py",
   "mimetype": "text/x-python",
   "name": "python",
   "nbconvert_exporter": "python",
   "pygments_lexer": "ipython3",
   "version": "3.12.0"
  }
 },
 "nbformat": 4,
 "nbformat_minor": 2
}
